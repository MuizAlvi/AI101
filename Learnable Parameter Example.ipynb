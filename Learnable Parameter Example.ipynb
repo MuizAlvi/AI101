{
 "cells": [
  {
   "cell_type": "markdown",
   "metadata": {},
   "source": [
    "## Learning from Data"
   ]
  },
  {
   "cell_type": "markdown",
   "metadata": {},
   "source": [
    "Problem: A computer is given a dataset of 'labeled' temperatures to help train its learnable parameter 'x'. Once trained, the computer will be given a temperature value and will have to determine whether this temperatue is 'hot' or 'cold'\n",
    "\n",
    "Algorithm: When the computer receives a temperature value greater than x, it outputs 'hot' and if less than or equal to x then it outputs 'cold'"
   ]
  },
  {
   "cell_type": "markdown",
   "metadata": {},
   "source": [
    "### Dataset"
   ]
  },
  {
   "cell_type": "markdown",
   "metadata": {},
   "source": [
    "| Temperature (°C) | Label |\n",
    "| --- | --- |\n",
    "| 13 | cold |\n",
    "| 27 | hot |\n",
    "| 16 | cold |\n",
    "| 10 | cold |\n",
    "| 19 | hot |\n",
    "| 20 | ? |"
   ]
  },
  {
   "cell_type": "markdown",
   "metadata": {},
   "source": [
    "### Training"
   ]
  },
  {
   "cell_type": "code",
   "execution_count": 1,
   "metadata": {},
   "outputs": [],
   "source": [
    "data = [13, 27, 16, 10, 19] # Training dataset \n",
    "label = ['cold', 'hot', 'cold', 'cold', 'hot'] # Training dataset labels"
   ]
  },
  {
   "cell_type": "code",
   "execution_count": 2,
   "metadata": {},
   "outputs": [],
   "source": [
    "x = - 100 # initial value for x\n",
    "T = 20 # Test data"
   ]
  },
  {
   "cell_type": "code",
   "execution_count": 3,
   "metadata": {},
   "outputs": [],
   "source": [
    "for i in range(0, len(data)): \n",
    "    if (data[i] > x) & (label[i] == 'cold'): x = data[i]"
   ]
  },
  {
   "cell_type": "markdown",
   "metadata": {},
   "source": [
    "### Test"
   ]
  },
  {
   "cell_type": "code",
   "execution_count": 4,
   "metadata": {},
   "outputs": [
    {
     "name": "stdout",
     "output_type": "stream",
     "text": [
      "hot\n"
     ]
    }
   ],
   "source": [
    "if x <= T: print('hot') \n",
    "else: print ('cold')"
   ]
  },
  {
   "cell_type": "code",
   "execution_count": null,
   "metadata": {},
   "outputs": [],
   "source": []
  }
 ],
 "metadata": {
  "kernelspec": {
   "display_name": "Python 3",
   "language": "python",
   "name": "python3"
  },
  "language_info": {
   "codemirror_mode": {
    "name": "ipython",
    "version": 3
   },
   "file_extension": ".py",
   "mimetype": "text/x-python",
   "name": "python",
   "nbconvert_exporter": "python",
   "pygments_lexer": "ipython3",
   "version": "3.7.7"
  }
 },
 "nbformat": 4,
 "nbformat_minor": 4
}
